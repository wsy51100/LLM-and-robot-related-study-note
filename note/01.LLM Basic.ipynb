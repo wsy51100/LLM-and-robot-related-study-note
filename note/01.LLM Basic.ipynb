{
 "cells": [
  {
   "cell_type": "markdown",
   "id": "4ecc39bd-aa59-44f8-8db8-3821182006cd",
   "metadata": {},
   "source": [
    "原文地址：\n",
    "https://magazine.sebastianraschka.com/p/understanding-multimodal-llms"
   ]
  },
  {
   "attachments": {},
   "cell_type": "markdown",
   "id": "82135897-07a8-4391-acb5-8fd608cd73b8",
   "metadata": {},
   "source": [
    "<div style = \"text-align: center;\">\n",
    "    <img src = \"pic/1.png\" width=\"500\"/>\n",
    "</div>"
   ]
  },
  {
   "cell_type": "markdown",
   "id": "7a96af30-28bb-4263-9a3e-b4862c8e8592",
   "metadata": {},
   "source": [
    "### 什么是LLMs\n",
    "\n",
    "1. multimodal LLMs 是指能够处理多种类型输入（inputs)的大语言模型，可以输入如文本、声音、图像、视频等\n",
    "\n",
    "### 建立multimodal LLMs的普遍方法\n",
    "\n",
    "1. 两种方式：\n",
    "   1) 统一嵌入解码器架构方法 (Unified Embedding Decoder Architecture approach)\n",
    "   2) 跨模态注意力架构方法 (Cross-modality Attention Architecture approach)\n",
    "\n",
    "<div style = \"text-align: center;\">\n",
    "    <img src = \"pic/2.png\" width = \"800\"/>\n",
    "</div>"
   ]
  }
 ],
 "metadata": {
  "kernelspec": {
   "display_name": "Python 3 (ipykernel)",
   "language": "python",
   "name": "python3"
  },
  "language_info": {
   "codemirror_mode": {
    "name": "ipython",
    "version": 3
   },
   "file_extension": ".py",
   "mimetype": "text/x-python",
   "name": "python",
   "nbconvert_exporter": "python",
   "pygments_lexer": "ipython3",
   "version": "3.11.5"
  }
 },
 "nbformat": 4,
 "nbformat_minor": 5
}
